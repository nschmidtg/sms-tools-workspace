{
 "cells": [
  {
   "cell_type": "markdown",
   "metadata": {},
   "source": [
    "# Exercise 2: Sinusoids and the DFT\n",
    "\n",
    "Doing this exercise you will get a better understanding of the basic elements and operations that take place in the Discrete Fourier Transform (DFT). There are five parts: 1) Generate a sinusoid, 2) Generate a complex sinusoid, 3) Implement the DFT, 4) Implement the IDFT, and 5) Compute the magnitude spectrum of an input sequence.\n",
    "\n",
    "### Relevant Concepts\n",
    "\n",
    "A real sinusoid in discrete time domain can be expressed by:\n",
    "\n",
    "\\begin{equation}\n",
    "x[n] = A\\cos(2 \\pi fnT + \\varphi)\n",
    "\\end{equation}\n",
    "\n",
    "where, $x$ is the array of real values of the sinusoid, $n$ is an integer value expressing the time index, $A$ is the amplitude value of the sinusoid, $f$ is the frequency value of the sinusoid in Hz, $T$ is the sampling period equal to $1/fs$, fs is the sampling frequency in Hz, and $\\varphi$ is the initial phase of the sinusoid in radians.\n",
    "\n",
    "A complex sinusoid in discrete time domain can be expressed by:\n",
    "\n",
    "\\begin{equation}\n",
    "\\bar{x}[n] = Ae^{j(\\omega nT + \\varphi)} = A\\cos(\\omega nT + \\varphi)+ j A\\sin(\\omega nT + \\varphi)\n",
    "\\end{equation}\n",
    "\n",
    "where, $\\bar{x}$ is the array of complex values of the sinusoid, $n$ is an integer value expressing the time index, $A$ is the amplitude value of the sinusoid, $e$ is the complex exponential number, $\\omega$ is the frequency of the sinusoid in radians per second (equal to $2 \\pi f$), $T$ is the sampling period equal $1/fs$, fs is the sampling frequency in Hz and $\\varphi$ is the initial phase of the sinusoid in radians.\n",
    "\n",
    "The $N$ point DFT of a sequence of real values $x$ (a sound) can be expressed by:\n",
    "\n",
    "\\begin{equation}\n",
    "X[k] = \\sum_{n=0}^{N-1} x[n]e^{-j2 \\pi kn/N}  \\hspace{1cm} k=0,...,N-1\n",
    "\\end{equation}\n",
    "\n",
    "where $n$ is an integer value expressing the discrete time index, $k$ is an integer value expressing the discrete frequency index, and $N$ is the length of the DFT.\n",
    "\n",
    "The IDFT of a spectrum $X$ of length $N$ can be expressed by:\n",
    "\n",
    "\\begin{equation}\n",
    "x[n] = \\frac{1}{N} \\sum_{k=0}^{N-1} X[k]e^{j2 \\pi kn/N}  \\hspace{1cm} n=0,...,N-1\n",
    "\\end{equation}\n",
    "\n",
    "where, $n$ is an integer value expressing the discrete time index, $k$ is an integer value expressing the discrete frequency index, and $N$ is the length of the spectrum $X$.\n",
    "\n",
    "The magnitude of a complex spectrum $X$ is obtained by taking its absolute value: $|X[k]| $\n"
   ]
  },
  {
   "cell_type": "markdown",
   "metadata": {},
   "source": [
    "## Part 1 - Generate a sinusoid\n",
    "\n",
    "The function `gen_sine()` should generate a real sinusoid (use `np.cos()`) given its amplitude `A`, frequency `f` (Hz), initial phase `phi` (radians), sampling rate `fs` (Hz) and duration `t` (seconds). \n",
    "\n",
    "All the input arguments to this function `(A, f, phi, fs and t)` are real numbers such that `A`, `t` and `fs` are positive, and `fs > 2*f` to avoid aliasing. The function should return a numpy array `x` of the generated sinusoid. \n",
    "\n",
    "Use the function `cos` of the numpy package to compute the sinusoidal values."
   ]
  },
  {
   "cell_type": "code",
   "execution_count": 105,
   "metadata": {},
   "outputs": [],
   "source": [
    "import numpy as np"
   ]
  },
  {
   "cell_type": "code",
   "execution_count": 551,
   "metadata": {},
   "outputs": [],
   "source": [
    "# E2 - 1.1: Complete function gen_sine()\n",
    "\n",
    "def gen_sine(A, f, phi, fs, t):\n",
    "    \"\"\"Generate a real sinusoid given its amplitude, frequency, initial phase, sampling rate, and duration.\n",
    "    \n",
    "    Args:\n",
    "        A (float):  amplitude of the sinusoid\n",
    "        f (float): frequency of the sinusoid in Hz\n",
    "        phi (float): initial phase of the sinusoid in radians\n",
    "        fs (float): sampling frequency of the sinusoid in Hz\n",
    "        t (float): duration of the sinusoid (is second)\n",
    "        \n",
    "    Returns:\n",
    "        np.array: array containing generated sinusoid\n",
    "        \n",
    "    \"\"\"\n",
    "    # initialize a t*fs length numpy array with the respective n indexes\n",
    "    samples = np.arange(int(t*fs))\n",
    "    \n",
    "    return A * np.cos(2 * np.pi * f * samples * (1 / fs) + phi)\n"
   ]
  },
  {
   "cell_type": "code",
   "execution_count": 552,
   "metadata": {},
   "outputs": [
    {
     "data": {
      "text/plain": [
       "array([ 0.54030231, -0.63332387, -0.93171798,  0.05749049,  0.96724906])"
      ]
     },
     "execution_count": 552,
     "metadata": {},
     "output_type": "execute_result"
    }
   ],
   "source": [
    "# Initialize proposed params\n",
    "A = 1.0\n",
    "f = 10.0\n",
    "phi = 1.0\n",
    "fs = 50\n",
    "t = 0.1\n",
    "# call gen_sine\n",
    "samples = gen_sine(A, f, phi, fs, t)\n",
    "samples"
   ]
  },
  {
   "cell_type": "markdown",
   "metadata": {},
   "source": [
    "If you use `A=1.0, f = 10.0, phi = 1.0, fs = 50` and `t = 0.1` as input to the function `gen_sine()` the output numpy array should be:\n",
    "\n",
    "```\n",
    "array([ 0.54030231, -0.63332387, -0.93171798,  0.05749049,  0.96724906])\n",
    "```\n",
    "\n",
    "To generate a sinewave that you can hear, it should be longer and with a higher sampling rate. For example you can use `A=1.0, f = 440.0, phi = 1.0, fs = 5000` and `t = 0.5`. To play it import the `Ipython.display` package and use `ipd.display(ipd.Audio(data=x, rate=fs))`."
   ]
  },
  {
   "cell_type": "code",
   "execution_count": 553,
   "metadata": {},
   "outputs": [],
   "source": [
    "# Initialize proposed params for listening\n",
    "A = 1.0\n",
    "f = 440.0\n",
    "phi = 1.0\n",
    "fs = 5000\n",
    "t = 0.5\n",
    "# call gen_sine\n",
    "samples = gen_sine(A, f, phi, fs, t)"
   ]
  },
  {
   "cell_type": "code",
   "execution_count": 554,
   "metadata": {},
   "outputs": [],
   "source": [
    "import matplotlib.pyplot as plt"
   ]
  },
  {
   "cell_type": "code",
   "execution_count": 555,
   "metadata": {},
   "outputs": [],
   "source": [
    "# I am going to use the same plot function from the previous assignment\n",
    "def plot_numpy_array(\n",
    "    x,\n",
    "    sample_rate = None,\n",
    "    plot_type = 'o',\n",
    "    xlabel = 'index',\n",
    "    ylabel = 'value',\n",
    "    title = 'numpy array with',\n",
    "    center = False\n",
    "):\n",
    "    \"\"\"Plots a numpy array. If the numpy array is audio, it allows to receive sample_rate for displaying time\n",
    "    \n",
    "    Args:\n",
    "        x(np.array): input numpy array\n",
    "        sample_rate(integer): if the numpy array represents audio, provide the sample_rate\n",
    "        plot_type(char): from the plot options. Use 'c' por audio\n",
    "        xlabel(string): label to be displayed in xaxis\n",
    "        ylabel(string): label to be displayed in yaxis\n",
    "        title(string): label to be displayed as title of the chart\n",
    "        \n",
    "    Returns:\n",
    "        void\n",
    "    \"\"\"\n",
    "    #if sample rate is not specified, is not audio, so the linspace in the x axis is the number of elements\n",
    "    if sample_rate == None:\n",
    "        sample_rate = 1\n",
    "    # create an evenly separetad array of values, size of the time in seconds\n",
    "    # from 0 or centered\n",
    "    if center:\n",
    "        time = np.linspace(-len(x)/2/sample_rate, len(x)/2 / sample_rate, num=len(x))\n",
    "    else:\n",
    "        time = np.linspace(0, (len(x)-1) / sample_rate, num=len(x))\n",
    "    # data is the input array\n",
    "    plt.plot(time, x, plot_type)\n",
    "    # title to identify the plot\n",
    "    plt.title(title)\n",
    "    plt.xlabel(xlabel)\n",
    "    plt.ylabel(ylabel)\n",
    "    plt.show()"
   ]
  },
  {
   "cell_type": "code",
   "execution_count": 556,
   "metadata": {},
   "outputs": [
    {
     "data": {
      "image/png": "[encoded data removed]",
      "text/plain": [
       "<Figure size 432x288 with 1 Axes>"
      ]
     },
     "metadata": {
      "needs_background": "light"
     },
     "output_type": "display_data"
    },
    {
     "data": {
      "text/html": [
       "\n",
       "                <audio  controls=\"controls\" >\n",
       "                    <source src=\"data:audio/wav;base64,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\" type=\"audio/wav\" />\n",
       "                    Your browser does not support the audio element.\n",
       "                </audio>\n",
       "              "
      ],
      "text/plain": [
       "<IPython.lib.display.Audio object>"
      ]
     },
     "metadata": {},
     "output_type": "display_data"
    }
   ],
   "source": [
    "# E2 - 1.2: Call the function gen_sine() with the values proposed above, plot and play the output sinusoid\n",
    "\n",
    "import IPython.display as ipd\n",
    "\n",
    "plot_numpy_array(\n",
    "    samples,\n",
    "    sample_rate = fs,\n",
    "    plot_type = 'c',\n",
    "    xlabel = \"time (seconds)\",\n",
    "    ylabel = \"amplitude\",\n",
    "    title = \"440Hz sinusoid\",\n",
    "    center = True\n",
    ")\n",
    "ipd.display(ipd.Audio(data=samples, rate=fs))\n"
   ]
  },
  {
   "cell_type": "markdown",
   "metadata": {},
   "source": [
    "## Part 2 - Generate a complex sinusoid \n",
    "\n",
    "The `gen_complex_sine()` function should generate the complex sinusoid that is used in DFT computation of length `N` (samples), corresponding to the frequency index `k`. Note that the complex sinusoid used in DFT computation has a negative sign in the exponential function.\n",
    "\n",
    "The amplitude of such a complex sinusoid is `1`, the length is `N`, and the frequency in radians is `2*pi*k/N`.\n",
    "\n",
    "The input arguments to the function are two positive integers, `k` and `N`, such that `k < N-1`. The function should return `c_sine`, a numpy array of the complex sinusoid. Use the function `exp()` of the numpy package to compute the complex sinusoidal values."
   ]
  },
  {
   "cell_type": "code",
   "execution_count": 563,
   "metadata": {},
   "outputs": [],
   "source": [
    "# E2 - 2.2: Complete function the function gen_complex_sine()\n",
    "\n",
    "def gen_complex_sine(k, N, center = False):\n",
    "    \"\"\"Generate one of the complex sinusoids used in the DFT from its frequency index and the DFT lenght.\n",
    "    \n",
    "    Args:\n",
    "        k (integer): frequency index of the complex sinusoid of the DFT\n",
    "        N (integer) = length of complex sinusoid, DFT length, in samples\n",
    "        center (boolean): optional parameter to center around 0 for correct display\n",
    "        \n",
    "    Returns:\n",
    "        np.array: array with generated complex sinusoid (length N)\n",
    "        \n",
    "    \"\"\"\n",
    "    # initialize a N length numpy array with the respective n indexes\n",
    "    if center:\n",
    "        samples = np.arange(-N/2,N/2)\n",
    "    else:\n",
    "        samples = np.arange(N)\n",
    "    \n",
    "    return np.exp(-1j * 2 * np.pi * k * samples / N)\n",
    "    "
   ]
  },
  {
   "cell_type": "markdown",
   "metadata": {},
   "source": [
    "If you run the function `gen_complex_sine()` using `k=1` and `N=5`, it should return the following numpy array:\n",
    "\n",
    "```\n",
    "array([ 1.0 + 0.j,  0.30901699 - 0.95105652j, -0.80901699 - 0.58778525j, -0.80901699 + 0.58778525j, 0.30901699 + 0.95105652j])\n",
    "```"
   ]
  },
  {
   "cell_type": "code",
   "execution_count": 564,
   "metadata": {},
   "outputs": [
    {
     "data": {
      "text/plain": [
       "array([ 1.        +0.j        ,  0.30901699-0.95105652j,\n",
       "       -0.80901699-0.58778525j, -0.80901699+0.58778525j,\n",
       "        0.30901699+0.95105652j])"
      ]
     },
     "execution_count": 564,
     "metadata": {},
     "output_type": "execute_result"
    }
   ],
   "source": [
    "# E2 - 2.2: Call gen_complex_sine() with the values suggested above and plot the real and imaginary parts of the \n",
    "# output complex sinusoid\n",
    "\n",
    "# Initialize proposed params\n",
    "k = 1\n",
    "N = 5\n",
    "# Call the gen_complex_sine function\n",
    "complex_sine = gen_complex_sine(k, N)\n",
    "complex_sine"
   ]
  },
  {
   "cell_type": "code",
   "execution_count": 565,
   "metadata": {},
   "outputs": [
    {
     "data": {
      "image/png": "[encoded data removed]",
      "text/plain": [
       "<Figure size 432x288 with 1 Axes>"
      ]
     },
     "metadata": {
      "needs_background": "light"
     },
     "output_type": "display_data"
    },
    {
     "data": {
      "image/png": "[encoded data removed]",
      "text/plain": [
       "<Figure size 432x288 with 1 Axes>"
      ]
     },
     "metadata": {
      "needs_background": "light"
     },
     "output_type": "display_data"
    }
   ],
   "source": [
    "plot_numpy_array(complex_sine.real, plot_type='c', title =\"Real part\", ylabel=\"amplitude\")\n",
    "plot_numpy_array(complex_sine.imag, plot_type='c', title =\"Imaginary part\", ylabel=\"amplitude\")"
   ]
  },
  {
   "cell_type": "markdown",
   "metadata": {},
   "source": [
    "## Part 3 - Implement the discrete Fourier transform (DFT)\n",
    "\n",
    "The function `dft()` should implement the discrete Fourier transform (DFT) equation given above. Given a sequence `x` of length `N`, the function should return its spectrum of length `N` with the frequency indexes ranging from 0 to `N-1`.\n",
    "\n",
    "The input argument to the function is a numpy array `x` and the function should return a numpy array `X`, the DFT of `x`."
   ]
  },
  {
   "cell_type": "code",
   "execution_count": 566,
   "metadata": {},
   "outputs": [],
   "source": [
    "# E2 - 3.1: Complete function dft()\n",
    "\n",
    "def dft(x, center = False):\n",
    "    \"\"\"Compute the DFT of a signal.\n",
    "    \n",
    "    Args:\n",
    "        x (numpy array): input sequence of length N\n",
    "        center (boolean): optional parameter to center around 0 for correct display\n",
    "        \n",
    "    Returns:\n",
    "        np.array: N point DFT of the input sequence x\n",
    "    \"\"\"\n",
    "    # initialize a len(x) length numpy array with the respective k indexes\n",
    "    if center:\n",
    "        samples = np.arange(-len(x)/2,len(x)/2)\n",
    "    else:\n",
    "        samples = np.arange(len(x))\n",
    "    # create a lambda function that will operate over each k element of the array\n",
    "    # samples contains the k indexes, and gen_complex_sine return an array with all the element\n",
    "    # that must be added to get the X[k] element. So we can multiply x by gen_complex_sine and sum the elements\n",
    "    \n",
    "    # we do not have to conjugate the gen_complex_sine, because it already has the -1j in the exponent\n",
    "    x_k = lambda k: np.sum(x*gen_complex_sine(k,len(x)))\n",
    "    # create the vectorized function\n",
    "    vfunc = np.vectorize(x_k)\n",
    "    # apply the function to the array and return\n",
    "    \n",
    "    return vfunc(samples)\n"
   ]
  },
  {
   "cell_type": "markdown",
   "metadata": {},
   "source": [
    "If you run `dft()` using as input `x = np.array([1, 2, 3, 4])`, the function shoulds return the following numpy array:\n",
    "\n",
    "```\n",
    "array([10.0 + 0.0j,  -2. +2.0j,  -2.0 - 9.79717439e-16j, -2.0 - 2.0j])\n",
    "```\n",
    "\n",
    "Note that you might not get an exact 0 in the output because of the small numerical errors due to the limited precision of the data in your computer. Usually these errors are of the order 1e-15 depending on your machine."
   ]
  },
  {
   "cell_type": "code",
   "execution_count": 567,
   "metadata": {},
   "outputs": [
    {
     "data": {
      "text/plain": [
       "array([10.+0.00000000e+00j, -2.+2.00000000e+00j, -2.-9.79717439e-16j,\n",
       "       -2.-2.00000000e+00j])"
      ]
     },
     "execution_count": 567,
     "metadata": {},
     "output_type": "execute_result"
    }
   ],
   "source": [
    "# E2 - 3.2: Call dft() with the values suggested above and plot the real and imaginary parts of output spectrum\n",
    "x = np.array([1, 2, 3, 4])\n",
    "\n",
    "computed_dft = dft(x)\n",
    "computed_dft"
   ]
  },
  {
   "cell_type": "code",
   "execution_count": 568,
   "metadata": {},
   "outputs": [
    {
     "data": {
      "image/png": "[encoded data removed]",
      "text/plain": [
       "<Figure size 432x288 with 1 Axes>"
      ]
     },
     "metadata": {
      "needs_background": "light"
     },
     "output_type": "display_data"
    },
    {
     "data": {
      "image/png": "[encoded data removed]",
      "text/plain": [
       "<Figure size 432x288 with 1 Axes>"
      ]
     },
     "metadata": {
      "needs_background": "light"
     },
     "output_type": "display_data"
    }
   ],
   "source": [
    "# As the signal is not real, the dft is not symmetrical, so we do not have to center the plot\n",
    "\n",
    "plot_numpy_array(computed_dft.real, plot_type='c', title =\"Real part\")\n",
    "plot_numpy_array(computed_dft.imag, plot_type='c', title =\"Imaginary part\")"
   ]
  },
  {
   "cell_type": "markdown",
   "metadata": {},
   "source": [
    "## Part 4 - Implement the inverse discrete Fourier transform (IDFT)\n",
    "\n",
    "The function `idft()` should implement the inverse discrete Fourier transform (IDFT) equation given above. Given a frequency spectrum `X` of length `N`, the function should return its IDFT `x`, also of length `N`. Assume that the frequency index of the input spectrum ranges from 0 to `N-1`.\n",
    "\n",
    "The input argument to the function is a numpy array `X` of the frequency spectrum and the function should return a numpy array of the IDFT of `X`.\n",
    "\n",
    "Remember to scale the output appropriately."
   ]
  },
  {
   "cell_type": "code",
   "execution_count": 569,
   "metadata": {},
   "outputs": [],
   "source": [
    "# E2 - 4.1: Complete the function idft()\n",
    "\n",
    "def idft(X):\n",
    "    \"\"\"Compute the inverse-DFT of a spectrum.\n",
    "    \n",
    "    Args:\n",
    "        X (np.array): frequency spectrum (length N)\n",
    "        \n",
    "    Returns:\n",
    "        np.array: N point IDFT of the frequency spectrum X\n",
    "        \n",
    "    \"\"\"\n",
    "    # initialize a len(x) length numpy array with the respective k indexes\n",
    "    samples = np.arange(len(X))\n",
    "    # create a lambda function that will operate over each k element of the array\n",
    "    # samples contains the k indexes, and gen_complex_sine return an array with all the element\n",
    "    # that must be added to get the X[k] element. gen_complex_sine must be conjugated (change imaginary sign)\n",
    "    # So we can multiply x by this result and sum the elements\n",
    "    \n",
    "    # we do conjugate the gen_complex_sine, to change imaginary part sign\n",
    "    x_k = lambda k: np.sum(X*np.conjugate(gen_complex_sine(k,len(X))))\n",
    "    # create the vectorized function\n",
    "    vfunc = np.vectorize(x_k)\n",
    "    # apply the function to the array and return\n",
    "    \n",
    "    return (1/len(X))*vfunc(samples)\n"
   ]
  },
  {
   "cell_type": "markdown",
   "metadata": {},
   "source": [
    "If you run `idft()` with the input `X = np.array([1, 1, 1, 1])`, the function should return the following numpy array: \n",
    "\n",
    "```\n",
    "array([  1.00000000e+00 +0.00000000e+00j,   -4.59242550e-17 +5.55111512e-17j,   0.00000000e+00 +6.12323400e-17j,   8.22616137e-17 +8.32667268e-17j])\n",
    "```\n",
    "\n",
    "Notice that the output numpy array is essentially `[1, 0, 0, 0]`. Instead of exact 0 we get very small numerical values of the order of 1e-15, which can be ignored. Also, these small numerical errors are machine dependent and might be different in your case.\n",
    "\n",
    "In addition, an interesting test of the IDFT function can be done by providing the output of the DFT of a sequence as the input to the IDFT. See if you get back the original time domain sequence."
   ]
  },
  {
   "cell_type": "code",
   "execution_count": 570,
   "metadata": {},
   "outputs": [
    {
     "data": {
      "image/png": "[encoded data removed]",
      "text/plain": [
       "<Figure size 432x288 with 1 Axes>"
      ]
     },
     "metadata": {
      "needs_background": "light"
     },
     "output_type": "display_data"
    },
    {
     "data": {
      "image/png": "[encoded data removed]",
      "text/plain": [
       "<Figure size 432x288 with 1 Axes>"
      ]
     },
     "metadata": {
      "needs_background": "light"
     },
     "output_type": "display_data"
    }
   ],
   "source": [
    "# E2 - 4.2: Plot input spectrum (real and imaginary parts) suggested above, call idft(), and plot output signal \n",
    "# (real and imaginary parts)\n",
    "\n",
    "# Initialize suggested input\n",
    "X = np.array([1, 1, 1, 1])\n",
    "\n",
    "plot_numpy_array(X.real, plot_type='c', title =\"Real part\")\n",
    "plot_numpy_array(X.imag, plot_type='c', title =\"Imaginary part\")"
   ]
  },
  {
   "cell_type": "code",
   "execution_count": 571,
   "metadata": {},
   "outputs": [
    {
     "data": {
      "text/plain": [
       "array([ 1.00000000e+00+0.00000000e+00j, -5.55111512e-17+2.77555756e-17j,\n",
       "        0.00000000e+00+6.12323400e-17j,  8.32667268e-17+1.11022302e-16j])"
      ]
     },
     "execution_count": 571,
     "metadata": {},
     "output_type": "execute_result"
    }
   ],
   "source": [
    "# call inverse dft for X\n",
    "X_inverse = idft(X)\n",
    "X_inverse"
   ]
  },
  {
   "cell_type": "code",
   "execution_count": 495,
   "metadata": {},
   "outputs": [
    {
     "data": {
      "image/png": "[encoded data removed]",
      "text/plain": [
       "<Figure size 432x288 with 1 Axes>"
      ]
     },
     "metadata": {
      "needs_background": "light"
     },
     "output_type": "display_data"
    },
    {
     "data": {
      "image/png": "[encoded data removed]",
      "text/plain": [
       "<Figure size 432x288 with 1 Axes>"
      ]
     },
     "metadata": {
      "needs_background": "light"
     },
     "output_type": "display_data"
    }
   ],
   "source": [
    "plot_numpy_array(X_inverse.real, plot_type='c', title =\"Real part\")\n",
    "plot_numpy_array(X_inverse.imag, plot_type='c', title =\"Imaginary part\")"
   ]
  },
  {
   "cell_type": "code",
   "execution_count": 496,
   "metadata": {},
   "outputs": [
    {
     "data": {
      "text/plain": [
       "array([1.-5.55111512e-16j, 2.-3.88578059e-16j, 3.-5.55111512e-17j,\n",
       "       4.+3.33066907e-16j])"
      ]
     },
     "execution_count": 496,
     "metadata": {},
     "output_type": "execute_result"
    }
   ],
   "source": [
    "# if we try with output of part 3\n",
    "idft(computed_dft)\n",
    "# we obtain [1, 2, 3, 4]"
   ]
  },
  {
   "cell_type": "markdown",
   "metadata": {},
   "source": [
    "## Part 5 - Compute the magnitude spectrum\n",
    "\n",
    "The function `gen_mag_spectrum()` should compute the magnitude spectrum of an input sequence `x` of length `N`. The function should return an `N` point magnitude spectrum with frequency index ranging from 0 to `N-1`.\n",
    "\n",
    "The input argument to the function is a numpy array `x` and the function should return a numpy array of the magnitude spectrum of `x`."
   ]
  },
  {
   "cell_type": "code",
   "execution_count": 575,
   "metadata": {},
   "outputs": [],
   "source": [
    "# E2 - 5.1: Complete the function gen_mag_spec()\n",
    "\n",
    "def gen_mag_spec(x, center=False):\n",
    "    \"\"\"Compute magnitude spectrum of a signal.\n",
    "    \n",
    "    Args:\n",
    "        x (np.array): input sequence of length N\n",
    "        center (boolean): optional parameter to center around 0 for correct display\n",
    "        \n",
    "    Returns:\n",
    "        np.array: magnitude spectrum of the input sequence x (length N)\n",
    "        \n",
    "    \"\"\"\n",
    "    return np.abs(dft(x, center=center))\n"
   ]
  },
  {
   "cell_type": "markdown",
   "metadata": {},
   "source": [
    "If you run `gen_mag_spec()` using as input `x = np.array([1, 2, 3, 4])`, it should return the following numpy array:\n",
    "```\n",
    "array([10.0, 2.82842712, 2.0, 2.82842712])\n",
    "```\n",
    "For a more realistic use of `gen_mag_spec()` use as input a longer signal, such as `x = np.cos(2*np.pi*200.0*np.arange(512)/1000)`, and to get a visual representation of the input and output, import the `matplotlib.pyplot` package and use `plt.plot(x)` and `plt.plot(X)`."
   ]
  },
  {
   "cell_type": "code",
   "execution_count": 576,
   "metadata": {},
   "outputs": [],
   "source": [
    "import IPython.display as ipd\n",
    "import matplotlib.pyplot as plt"
   ]
  },
  {
   "cell_type": "code",
   "execution_count": 577,
   "metadata": {},
   "outputs": [
    {
     "data": {
      "text/plain": [
       "array([10.        ,  2.82842712,  2.        ,  2.82842712])"
      ]
     },
     "execution_count": 577,
     "metadata": {},
     "output_type": "execute_result"
    }
   ],
   "source": [
    "# E2 - 5.2: Plot input cosine signal suggested above, call gen_mag_spec(), and plot the output result\n",
    "\n",
    "# Initialize suggested input\n",
    "x = np.array([1, 2, 3, 4])\n",
    "gen_mag_spec(x)"
   ]
  },
  {
   "cell_type": "code",
   "execution_count": 578,
   "metadata": {},
   "outputs": [],
   "source": [
    "# second suggested input\n",
    "sample_rate = 1000\n",
    "N = 1000\n",
    "n = np.arange(N)\n",
    "f0 = 200\n",
    "x = np.cos(2*np.pi*f0*n/N)"
   ]
  },
  {
   "cell_type": "code",
   "execution_count": 579,
   "metadata": {},
   "outputs": [
    {
     "data": {
      "image/png": "[encoded data removed]",
      "text/plain": [
       "<Figure size 432x288 with 1 Axes>"
      ]
     },
     "metadata": {
      "needs_background": "light"
     },
     "output_type": "display_data"
    }
   ],
   "source": [
    "X = np.array([])\n",
    "nv = np.arange(-N/2,N/2)\n",
    "kv = np.arange(-N/2,N/2)\n",
    "\n",
    "for k in kv:\n",
    "    s = np.exp(-1j * 2 * np.pi * k / N * nv)\n",
    "    X = np.append(X, sum(x*(s)))\n",
    "    \n",
    "plt.plot(kv,abs(X))\n",
    "plt.axis([-N/2, N/2-1, 0, N])\n",
    "\n",
    "plt.show()"
   ]
  },
  {
   "cell_type": "code",
   "execution_count": 580,
   "metadata": {},
   "outputs": [
    {
     "data": {
      "image/png": "[encoded data removed]",
      "text/plain": [
       "<Figure size 432x288 with 1 Axes>"
      ]
     },
     "metadata": {
      "needs_background": "light"
     },
     "output_type": "display_data"
    }
   ],
   "source": [
    "plot_numpy_array(\n",
    "    x,\n",
    "    plot_type='c',\n",
    "    sample_rate = sample_rate,\n",
    "    xlabel=\"time\",\n",
    "    ylabel=\"amplitude\",\n",
    "    title=\"sinusoid of \"+ str(f0)+\" Hz\"\n",
    ")"
   ]
  },
  {
   "cell_type": "code",
   "execution_count": 581,
   "metadata": {},
   "outputs": [],
   "source": [
    "magnitude = gen_mag_spec(x, center=True)"
   ]
  },
  {
   "cell_type": "code",
   "execution_count": 582,
   "metadata": {},
   "outputs": [
    {
     "data": {
      "image/png": "[encoded data removed]",
      "text/plain": [
       "<Figure size 432x288 with 1 Axes>"
      ]
     },
     "metadata": {
      "needs_background": "light"
     },
     "output_type": "display_data"
    },
    {
     "data": {
      "image/png": "[encoded data removed]",
      "text/plain": [
       "<Figure size 432x288 with 1 Axes>"
      ]
     },
     "metadata": {
      "needs_background": "light"
     },
     "output_type": "display_data"
    }
   ],
   "source": [
    "plot_numpy_array(magnitude.real, plot_type='c', title =\"Real part\", center=True)\n",
    "plot_numpy_array(magnitude.imag, plot_type='c', title =\"Imaginary part\")"
   ]
  },
  {
   "cell_type": "code",
   "execution_count": null,
   "metadata": {},
   "outputs": [],
   "source": []
  },
  {
   "cell_type": "code",
   "execution_count": null,
   "metadata": {},
   "outputs": [],
   "source": []
  }
 ],
 "metadata": {
  "kernelspec": {
   "display_name": "Python 3",
   "language": "python",
   "name": "python3"
  },
  "language_info": {
   "codemirror_mode": {
    "name": "ipython",
    "version": 3
   },
   "file_extension": ".py",
   "mimetype": "text/x-python",
   "name": "python",
   "nbconvert_exporter": "python",
   "pygments_lexer": "ipython3",
   "version": "3.8.3"
  }
 },
 "nbformat": 4,
 "nbformat_minor": 2
}
